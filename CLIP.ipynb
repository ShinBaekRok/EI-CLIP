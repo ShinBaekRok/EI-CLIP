{
 "cells": [
  {
   "cell_type": "code",
   "execution_count": 1,
   "id": "a80c5181",
   "metadata": {
    "collapsed": true
   },
   "outputs": [],
   "source": [
    "from pytorch_pretrained_vit import ViT\n",
    "from Image_Encoding import Image_Encoding\n",
    "from torchvision import transforms\n",
    "from EEG_Image_Dataset import *\n",
    "from torch import nn\n",
    "import torch\n",
    "import numpy as np\n",
    "import glob\n",
    "from torch.utils.data import Dataset, DataLoader\n",
    "from PIL import Image\n",
    "from pytorch_pretrained_vit import ViT\n",
    "import pickle\n",
    "import torch.nn.functional as F\n",
    "import cv2\n",
    "import sys\n",
    "import os\n",
    "import tqdm\n",
    "import random\n",
    "import math\n",
    "from torch_intermediate_layer_getter import IntermediateLayerGetter as MidGetter\n",
    "import time\n",
    "import torch; torch.utils.backcompat.broadcast_warning.enabled = True\n",
    "from torch.utils.data import DataLoader\n",
    "import torch.nn.functional as F\n",
    "import torch.optim\n",
    "import torch.backends.cudnn as cudnn; cudnn.benchmark = True\n",
    "import numpy as np\n",
    "import models\n",
    "import importlib\n",
    "import argparse\n",
    "import matplotlib.pyplot as plt\n",
    "import time"
   ]
  },
  {
   "cell_type": "code",
   "execution_count": 2,
   "id": "4e06d42e",
   "metadata": {},
   "outputs": [
    {
     "name": "stdout",
     "output_type": "stream",
     "text": [
      "Namespace(batch_size=32, data_workers=4, eeg_dataset='/users/sbr/data/eeg_55_95_std.pth', epochs=100, learning_rate=0.001, learning_rate_decay_by=0.5, learning_rate_decay_every=10, model_params='', model_type='EEGChannelNet', no_cuda=False, optim='Adam', pretrained_net='', saveCheck=5, split_num=0, splits_path='/users/sbr/data/block_splits_by_image_all.pth', subject=0, time_high=460, time_low=20)\n"
     ]
    }
   ],
   "source": [
    "parser = argparse.ArgumentParser(description=\"Template\")\n",
    "### BLOCK DESIGN ###\n",
    "#Data\n",
    "#parser.add_argument('-ed', '--eeg-dataset', default=r\"data\\block\\eeg_55_95_std.pth\", help=\"EEG dataset path\") #55-95Hz\n",
    "parser.add_argument('-ed', '--eeg-dataset', default=r\"/users/sbr/data/eeg_55_95_std.pth\", help=\"EEG dataset path\") #5-95Hz\n",
    "#parser.add_argument('-ed', '--eeg-dataset', default=r\"data\\block\\eeg_14_70_std.pth\", help=\"EEG dataset path\") #14-70Hz\n",
    "#Splits\n",
    "parser.add_argument('-sp', '--splits-path', default=r\"/users/sbr/data/block_splits_by_image_all.pth\", help=\"splits path\") #All subjects\n",
    "#parser.add_argument('-sp', '--splits-path', default=r\"data\\block\\block_splits_by_image_single.pth\", help=\"splits path\") #Single subject\n",
    "### BLOCK DESIGN ###\n",
    "\n",
    "parser.add_argument('-sn', '--split-num', default=0, type=int, help=\"split number\") #leave this always to zero.\n",
    "\n",
    "#Subject selecting\n",
    "parser.add_argument('-sub','--subject', default=0   , type=int, help=\"choose a subject from 1 to 6, default is 0 (all subjects)\")\n",
    "\n",
    "#Time options: select from 20 to 460 samples from EEG data\n",
    "parser.add_argument('-tl', '--time_low', default=20, type=float, help=\"lowest time value\")\n",
    "parser.add_argument('-th', '--time_high', default=460,  type=float, help=\"highest time value\")\n",
    "\n",
    "# Model type/options\n",
    "parser.add_argument('-mt','--model_type', default='EEGChannelNet', help='specify which generator should be used: lstm|EEGChannelNet')\n",
    "# It is possible to test out multiple deep classifiers:\n",
    "# - lstm is the model described in the paper \"Deep Learning Human Mind for Automated Visual Classification”, in CVPR 2017\n",
    "# - model10 is the model described in the paper \"Decoding brain representations by multimodal learning of neural activity and visual features\", TPAMI 2020\n",
    "parser.add_argument('-mp','--model_params', default='', nargs='*', help='list of key=value pairs of model options')\n",
    "parser.add_argument('--pretrained_net', default='', help=\"path to pre-trained net (to continue training)\")\n",
    "\n",
    "# Training options\n",
    "parser.add_argument(\"-b\", \"--batch_size\", default=32, type=int, help=\"batch size\")\n",
    "parser.add_argument('-o', '--optim', default=\"Adam\", help=\"optimizer\")\n",
    "parser.add_argument('-lr', '--learning-rate', default=0.001, type=float, help=\"learning rate\")\n",
    "parser.add_argument('-lrdb', '--learning-rate-decay-by', default=0.5, type=float, help=\"learning rate decay factor\")\n",
    "parser.add_argument('-lrde', '--learning-rate-decay-every', default=10, type=int, help=\"learning rate decay period\")\n",
    "parser.add_argument('-dw', '--data-workers', default=4, type=int, help=\"data loading workers\")\n",
    "parser.add_argument('-e', '--epochs', default=100, type=int, help=\"training epochs\")\n",
    "\n",
    "# Save options\n",
    "parser.add_argument('-sc', '--saveCheck', default=5, type=int, help=\"learning rate\")\n",
    "\n",
    "# Backend options\n",
    "parser.add_argument('--no-cuda', default=False, help=\"disable CUDA\", action=\"store_true\")\n",
    "\n",
    "# Parse arguments\n",
    "opt, _ = parser.parse_known_args()\n",
    "print(opt)"
   ]
  },
  {
   "cell_type": "code",
   "execution_count": 3,
   "id": "e279d17a",
   "metadata": {
    "collapsed": true
   },
   "outputs": [],
   "source": [
    "with open('/users/sbr/data/Image_data/image_path.pkl', 'rb') as f:\n",
    "    image_path = pickle.load(f)\n",
    "    \n",
    "loaders = {split: DataLoader(Splitter(EEG_Image_Dataset(opt.eeg_dataset, image_path, split), split_path = opt.splits_path, split_num = opt.split_num, split_name = split), batch_size = 16, drop_last = True, shuffle = True) for split in [\"train\", \"val\", \"test\"]}"
   ]
  },
  {
   "cell_type": "code",
   "execution_count": 4,
   "id": "082d4e52",
   "metadata": {
    "collapsed": true
   },
   "outputs": [],
   "source": [
    "class ProjectionHead(nn.Module):\n",
    "    def __init__(\n",
    "        self,\n",
    "        embedding_dim,\n",
    "        projection_dim=512,\n",
    "        dropout=0.1\n",
    "    ):\n",
    "        super().__init__()\n",
    "        self.projection = nn.Linear(embedding_dim, projection_dim)\n",
    "        self.gelu = nn.GELU()\n",
    "        self.fc = nn.Linear(projection_dim, projection_dim)\n",
    "        self.dropout = nn.Dropout(dropout)\n",
    "        self.layer_norm = nn.LayerNorm(projection_dim)\n",
    "    \n",
    "    def forward(self, x):\n",
    "        projected = self.projection(x)\n",
    "        x = self.gelu(projected)\n",
    "        x = self.fc(x)\n",
    "        x = self.dropout(x)\n",
    "        x = x + projected\n",
    "        x = self.layer_norm(x)\n",
    "        return x"
   ]
  },
  {
   "cell_type": "code",
   "execution_count": 6,
   "id": "73871bcd",
   "metadata": {},
   "outputs": [
    {
     "name": "stdout",
     "output_type": "stream",
     "text": [
      "Copied to CUDA\n"
     ]
    }
   ],
   "source": [
    "EEG_Encoder = torch.load('/users/sbr/code/Image/EEGChannelNet__subject0_epoch_40.pth') \n",
    "\"\"\"for param in EEG_Encoder.parameters():\n",
    "    param.requires_grad = False\n",
    "\n",
    "EEG_Encoder.embedding.requires_grad = True\n",
    "EEG_Encoder.classifier.requires_grad = True\"\"\"\n",
    "EEG_Encoder.cuda()\n",
    "print('Copied to CUDA')"
   ]
  },
  {
   "cell_type": "code",
   "execution_count": 7,
   "id": "6c0d6cd4",
   "metadata": {
    "collapsed": true
   },
   "outputs": [],
   "source": [
    "class CLIPModel(nn.Module):\n",
    "    def __init__(self):\n",
    "        super().__init__()\n",
    "        self.image_encoder = mid_getter\n",
    "        self.EEG_encoder = EEG_Encoder\n",
    "        self.image_projection = ProjectionHead(embedding_dim=768)\n",
    "        self.EEG_projection = ProjectionHead(embedding_dim=1000)\n",
    "\n",
    "    def forward(self, EEG, image, label, image_label):\n",
    "        image_features, image_class = self.image_encoder(image)\n",
    "        image_features = image_features['norm'][:,0]\n",
    "        \n",
    "        EEG_features, EEG_class = self.EEG_encoder(EEG)\n",
    "        image_embeddings = self.image_projection(image_features)\n",
    "        EEG_embeddings = self.EEG_projection(EEG_features)\n",
    "\n",
    "        logits = (EEG_embeddings @ image_embeddings.T)\n",
    "        images_similarity = image_embeddings @ image_embeddings.T\n",
    "        EEG_similarity = EEG_embeddings @ EEG_embeddings.T\n",
    "        \n",
    "        targets = F.softmax((images_similarity + EEG_similarity) / 2, dim=-1)\n",
    "        \n",
    "        EEG_s_loss = cross_entropy(logits, targets, reduction='none')\n",
    "        image_s_loss = cross_entropy(logits.T, targets.T, reduction='none')\n",
    "        CLIP_loss =  (image_s_loss + EEG_s_loss) / 2.0\n",
    "        \n",
    "        image_c_loss = F.cross_entropy(image_class, label)\n",
    "        EEG_c_loss = F.cross_entropy(EEG_class, label)\n",
    "        \n",
    "        loss = CLIP_loss + ((image_c_loss + EEG_c_loss) / 2.0) * 0.1\n",
    "        \n",
    "        return loss.mean()\n",
    "\n",
    "\n",
    "def cross_entropy(preds, targets, reduction='none'):\n",
    "    log_softmax = nn.LogSoftmax(dim=-1)\n",
    "    loss = (-targets * log_softmax(preds)).sum(1)\n",
    "    if reduction == \"none\":\n",
    "        return loss\n",
    "    elif reduction == \"mean\":\n",
    "        return loss.mean()"
   ]
  },
  {
   "cell_type": "code",
   "execution_count": 8,
   "id": "5f11c3d8",
   "metadata": {
    "collapsed": true
   },
   "outputs": [
    {
     "name": "stderr",
     "output_type": "stream",
     "text": [
      "100%|█████████████████████████████████████████| 497/497 [05:08<00:00,  1.61it/s]\n",
      "100%|█████████████████████████████████████████| 124/124 [00:55<00:00,  2.23it/s]\n",
      "100%|█████████████████████████████████████████| 124/124 [00:55<00:00,  2.24it/s]\n"
     ]
    },
    {
     "name": "stdout",
     "output_type": "stream",
     "text": [
      "Time for Epoch 1: 419.76\n",
      "Epoch 1:\n",
      " TOTAL: TrL(CLIP)=8.0482, VL(CLIP)=2.7925, TeL(CLIP)=2.9434 \n",
      " EEG: TrA=0.6048, VA=0.5161, TeA=0.5035 \n",
      "  TeA at max VA = 0.5161 at epoch 1\n"
     ]
    },
    {
     "name": "stderr",
     "output_type": "stream",
     "text": [
      "100%|█████████████████████████████████████████| 497/497 [05:05<00:00,  1.62it/s]\n",
      "100%|█████████████████████████████████████████| 124/124 [00:55<00:00,  2.22it/s]\n",
      "100%|█████████████████████████████████████████| 124/124 [00:57<00:00,  2.17it/s]\n"
     ]
    },
    {
     "name": "stdout",
     "output_type": "stream",
     "text": [
      "Time for Epoch 2: 419.07\n",
      "Epoch 2:\n",
      " TOTAL: TrL(CLIP)=2.4430, VL(CLIP)=2.1702, TeL(CLIP)=2.2128 \n",
      " EEG: TrA=0.6166, VA=0.5207, TeA=0.5015 \n",
      "  TeA at max VA = 0.5207 at epoch 2\n"
     ]
    },
    {
     "name": "stderr",
     "output_type": "stream",
     "text": [
      "100%|█████████████████████████████████████████| 497/497 [05:13<00:00,  1.59it/s]\n",
      "100%|█████████████████████████████████████████| 124/124 [00:55<00:00,  2.25it/s]\n",
      "100%|█████████████████████████████████████████| 124/124 [00:55<00:00,  2.22it/s]\n"
     ]
    },
    {
     "name": "stdout",
     "output_type": "stream",
     "text": [
      "Time for Epoch 3: 424.60\n",
      "Epoch 3:\n",
      " TOTAL: TrL(CLIP)=1.9837, VL(CLIP)=1.9191, TeL(CLIP)=2.0200 \n",
      " EEG: TrA=0.6201, VA=0.5161, TeA=0.4990 \n",
      "  TeA at max VA = 0.5207 at epoch 2\n"
     ]
    },
    {
     "name": "stderr",
     "output_type": "stream",
     "text": [
      "100%|█████████████████████████████████████████| 497/497 [05:06<00:00,  1.62it/s]\n",
      "100%|█████████████████████████████████████████| 124/124 [00:55<00:00,  2.24it/s]\n",
      "100%|█████████████████████████████████████████| 124/124 [00:55<00:00,  2.22it/s]\n"
     ]
    },
    {
     "name": "stdout",
     "output_type": "stream",
     "text": [
      "Time for Epoch 4: 417.55\n",
      "Epoch 4:\n",
      " TOTAL: TrL(CLIP)=1.7826, VL(CLIP)=1.7953, TeL(CLIP)=1.8854 \n",
      " EEG: TrA=0.6322, VA=0.5237, TeA=0.5050 \n",
      "  TeA at max VA = 0.5237 at epoch 4\n"
     ]
    },
    {
     "name": "stderr",
     "output_type": "stream",
     "text": [
      "100%|█████████████████████████████████████████| 497/497 [05:14<00:00,  1.58it/s]\n",
      "100%|█████████████████████████████████████████| 124/124 [00:56<00:00,  2.18it/s]\n",
      "100%|█████████████████████████████████████████| 124/124 [00:57<00:00,  2.17it/s]\n"
     ]
    },
    {
     "name": "stdout",
     "output_type": "stream",
     "text": [
      "Time for Epoch 5: 428.63\n",
      "Epoch 5:\n",
      " TOTAL: TrL(CLIP)=1.6863, VL(CLIP)=1.8016, TeL(CLIP)=1.8337 \n",
      " EEG: TrA=0.6376, VA=0.5212, TeA=0.5035 \n",
      "  TeA at max VA = 0.5237 at epoch 4\n"
     ]
    },
    {
     "name": "stderr",
     "output_type": "stream",
     "text": [
      "100%|█████████████████████████████████████████| 497/497 [05:35<00:00,  1.48it/s]\n",
      "100%|█████████████████████████████████████████| 124/124 [00:58<00:00,  2.12it/s]\n",
      "100%|█████████████████████████████████████████| 124/124 [01:04<00:00,  1.92it/s]\n"
     ]
    },
    {
     "name": "stdout",
     "output_type": "stream",
     "text": [
      "Time for Epoch 6: 458.19\n",
      "Epoch 6:\n",
      " TOTAL: TrL(CLIP)=1.6379, VL(CLIP)=1.7820, TeL(CLIP)=1.8206 \n",
      " EEG: TrA=0.6351, VA=0.5333, TeA=0.5035 \n",
      "  TeA at max VA = 0.5333 at epoch 6\n"
     ]
    },
    {
     "name": "stderr",
     "output_type": "stream",
     "text": [
      "100%|█████████████████████████████████████████| 497/497 [05:24<00:00,  1.53it/s]\n",
      "100%|█████████████████████████████████████████| 124/124 [00:58<00:00,  2.11it/s]\n",
      "100%|█████████████████████████████████████████| 124/124 [01:00<00:00,  2.07it/s]\n"
     ]
    },
    {
     "name": "stdout",
     "output_type": "stream",
     "text": [
      "Time for Epoch 7: 443.06\n",
      "Epoch 7:\n",
      " TOTAL: TrL(CLIP)=1.5846, VL(CLIP)=1.7203, TeL(CLIP)=1.7844 \n",
      " EEG: TrA=0.6442, VA=0.5343, TeA=0.5060 \n",
      "  TeA at max VA = 0.5343 at epoch 7\n"
     ]
    },
    {
     "name": "stderr",
     "output_type": "stream",
     "text": [
      "100%|█████████████████████████████████████████| 497/497 [05:38<00:00,  1.47it/s]\n",
      "100%|█████████████████████████████████████████| 124/124 [00:56<00:00,  2.18it/s]\n",
      "100%|█████████████████████████████████████████| 124/124 [00:58<00:00,  2.13it/s]\n"
     ]
    },
    {
     "name": "stdout",
     "output_type": "stream",
     "text": [
      "Time for Epoch 8: 453.70\n",
      "Epoch 8:\n",
      " TOTAL: TrL(CLIP)=1.5375, VL(CLIP)=1.7495, TeL(CLIP)=1.7626 \n",
      " EEG: TrA=0.6455, VA=0.5292, TeA=0.5111 \n",
      "  TeA at max VA = 0.5343 at epoch 7\n"
     ]
    },
    {
     "name": "stderr",
     "output_type": "stream",
     "text": [
      "100%|█████████████████████████████████████████| 497/497 [05:24<00:00,  1.53it/s]\n",
      "100%|█████████████████████████████████████████| 124/124 [01:00<00:00,  2.06it/s]\n",
      "100%|█████████████████████████████████████████| 124/124 [00:58<00:00,  2.11it/s]\n"
     ]
    },
    {
     "name": "stdout",
     "output_type": "stream",
     "text": [
      "Time for Epoch 9: 443.45\n",
      "Epoch 9:\n",
      " TOTAL: TrL(CLIP)=1.5095, VL(CLIP)=1.7179, TeL(CLIP)=1.7850 \n",
      " EEG: TrA=0.6434, VA=0.5287, TeA=0.5141 \n",
      "  TeA at max VA = 0.5343 at epoch 7\n"
     ]
    },
    {
     "name": "stderr",
     "output_type": "stream",
     "text": [
      "100%|█████████████████████████████████████████| 497/497 [05:14<00:00,  1.58it/s]\n",
      "100%|█████████████████████████████████████████| 124/124 [00:57<00:00,  2.18it/s]\n",
      "100%|█████████████████████████████████████████| 124/124 [00:57<00:00,  2.15it/s]\n"
     ]
    },
    {
     "name": "stdout",
     "output_type": "stream",
     "text": [
      "Time for Epoch 10: 429.17\n",
      "Epoch 10:\n",
      " TOTAL: TrL(CLIP)=1.5023, VL(CLIP)=1.7549, TeL(CLIP)=1.8020 \n",
      " EEG: TrA=0.6537, VA=0.5318, TeA=0.5161 \n",
      "  TeA at max VA = 0.5343 at epoch 7\n"
     ]
    },
    {
     "name": "stderr",
     "output_type": "stream",
     "text": [
      "100%|█████████████████████████████████████████| 497/497 [05:15<00:00,  1.57it/s]\n",
      "100%|█████████████████████████████████████████| 124/124 [00:56<00:00,  2.19it/s]\n",
      "100%|█████████████████████████████████████████| 124/124 [00:57<00:00,  2.17it/s]\n"
     ]
    },
    {
     "name": "stdout",
     "output_type": "stream",
     "text": [
      "Time for Epoch 11: 429.63\n",
      "Epoch 11:\n",
      " TOTAL: TrL(CLIP)=1.4907, VL(CLIP)=1.7225, TeL(CLIP)=1.7395 \n",
      " EEG: TrA=0.6444, VA=0.5328, TeA=0.5121 \n",
      "  TeA at max VA = 0.5343 at epoch 7\n"
     ]
    },
    {
     "name": "stderr",
     "output_type": "stream",
     "text": [
      "100%|█████████████████████████████████████████| 497/497 [05:09<00:00,  1.60it/s]\n",
      "100%|█████████████████████████████████████████| 124/124 [00:56<00:00,  2.19it/s]\n",
      "100%|█████████████████████████████████████████| 124/124 [00:58<00:00,  2.13it/s]\n"
     ]
    },
    {
     "name": "stdout",
     "output_type": "stream",
     "text": [
      "Time for Epoch 12: 424.53\n",
      "Epoch 12:\n",
      " TOTAL: TrL(CLIP)=1.4627, VL(CLIP)=1.7552, TeL(CLIP)=1.7514 \n",
      " EEG: TrA=0.6426, VA=0.5307, TeA=0.5096 \n",
      "  TeA at max VA = 0.5343 at epoch 7\n"
     ]
    },
    {
     "name": "stderr",
     "output_type": "stream",
     "text": [
      "100%|█████████████████████████████████████████| 497/497 [05:19<00:00,  1.56it/s]\n",
      "100%|█████████████████████████████████████████| 124/124 [00:56<00:00,  2.18it/s]\n",
      "100%|█████████████████████████████████████████| 124/124 [00:56<00:00,  2.19it/s]\n"
     ]
    },
    {
     "name": "stdout",
     "output_type": "stream",
     "text": [
      "Time for Epoch 13: 433.08\n",
      "Epoch 13:\n",
      " TOTAL: TrL(CLIP)=1.4614, VL(CLIP)=1.7247, TeL(CLIP)=1.7397 \n",
      " EEG: TrA=0.6543, VA=0.5312, TeA=0.5141 \n",
      "  TeA at max VA = 0.5343 at epoch 7\n"
     ]
    },
    {
     "name": "stderr",
     "output_type": "stream",
     "text": [
      "100%|█████████████████████████████████████████| 497/497 [05:15<00:00,  1.57it/s]\n",
      "100%|█████████████████████████████████████████| 124/124 [00:57<00:00,  2.16it/s]\n",
      "100%|█████████████████████████████████████████| 124/124 [00:56<00:00,  2.20it/s]\n"
     ]
    },
    {
     "name": "stdout",
     "output_type": "stream",
     "text": [
      "Time for Epoch 14: 429.53\n",
      "Epoch 14:\n",
      " TOTAL: TrL(CLIP)=1.4395, VL(CLIP)=1.7521, TeL(CLIP)=1.7711 \n",
      " EEG: TrA=0.6528, VA=0.5343, TeA=0.5146 \n",
      "  TeA at max VA = 0.5343 at epoch 14\n"
     ]
    },
    {
     "name": "stderr",
     "output_type": "stream",
     "text": [
      "100%|█████████████████████████████████████████| 497/497 [05:10<00:00,  1.60it/s]\n",
      "100%|█████████████████████████████████████████| 124/124 [00:53<00:00,  2.30it/s]\n",
      "100%|█████████████████████████████████████████| 124/124 [00:54<00:00,  2.27it/s]\n"
     ]
    },
    {
     "name": "stdout",
     "output_type": "stream",
     "text": [
      "Time for Epoch 15: 418.88\n",
      "Epoch 15:\n",
      " TOTAL: TrL(CLIP)=1.4382, VL(CLIP)=1.6375, TeL(CLIP)=1.6967 \n",
      " EEG: TrA=0.6488, VA=0.5403, TeA=0.5212 \n",
      "  TeA at max VA = 0.5403 at epoch 15\n"
     ]
    },
    {
     "name": "stderr",
     "output_type": "stream",
     "text": [
      "100%|█████████████████████████████████████████| 497/497 [05:11<00:00,  1.59it/s]\n",
      "100%|█████████████████████████████████████████| 124/124 [00:55<00:00,  2.24it/s]\n",
      "100%|█████████████████████████████████████████| 124/124 [00:55<00:00,  2.23it/s]\n"
     ]
    },
    {
     "name": "stdout",
     "output_type": "stream",
     "text": [
      "Time for Epoch 16: 422.53\n",
      "Epoch 16:\n",
      " TOTAL: TrL(CLIP)=1.4368, VL(CLIP)=1.6974, TeL(CLIP)=1.7759 \n",
      " EEG: TrA=0.6527, VA=0.5393, TeA=0.5141 \n",
      "  TeA at max VA = 0.5403 at epoch 15\n"
     ]
    },
    {
     "name": "stderr",
     "output_type": "stream",
     "text": [
      "100%|█████████████████████████████████████████| 497/497 [05:08<00:00,  1.61it/s]\n",
      "100%|█████████████████████████████████████████| 124/124 [00:53<00:00,  2.30it/s]\n",
      "100%|█████████████████████████████████████████| 124/124 [00:54<00:00,  2.27it/s]\n"
     ]
    },
    {
     "name": "stdout",
     "output_type": "stream",
     "text": [
      "Time for Epoch 17: 416.70\n",
      "Epoch 17:\n",
      " TOTAL: TrL(CLIP)=1.4229, VL(CLIP)=1.7021, TeL(CLIP)=1.7153 \n",
      " EEG: TrA=0.6611, VA=0.5353, TeA=0.5141 \n",
      "  TeA at max VA = 0.5403 at epoch 15\n"
     ]
    },
    {
     "name": "stderr",
     "output_type": "stream",
     "text": [
      "100%|█████████████████████████████████████████| 497/497 [05:09<00:00,  1.60it/s]\n",
      "100%|█████████████████████████████████████████| 124/124 [00:56<00:00,  2.19it/s]\n",
      "100%|█████████████████████████████████████████| 124/124 [00:56<00:00,  2.18it/s]\n"
     ]
    },
    {
     "name": "stdout",
     "output_type": "stream",
     "text": [
      "Time for Epoch 18: 423.39\n",
      "Epoch 18:\n",
      " TOTAL: TrL(CLIP)=1.4035, VL(CLIP)=1.6672, TeL(CLIP)=1.7115 \n",
      " EEG: TrA=0.6615, VA=0.5413, TeA=0.5156 \n",
      "  TeA at max VA = 0.5413 at epoch 18\n"
     ]
    },
    {
     "name": "stderr",
     "output_type": "stream",
     "text": [
      "100%|█████████████████████████████████████████| 497/497 [05:15<00:00,  1.58it/s]\n",
      "100%|█████████████████████████████████████████| 124/124 [00:54<00:00,  2.27it/s]\n",
      "100%|█████████████████████████████████████████| 124/124 [00:54<00:00,  2.26it/s]\n"
     ]
    },
    {
     "name": "stdout",
     "output_type": "stream",
     "text": [
      "Time for Epoch 19: 424.41\n",
      "Epoch 19:\n",
      " TOTAL: TrL(CLIP)=1.4127, VL(CLIP)=1.7090, TeL(CLIP)=1.7036 \n",
      " EEG: TrA=0.6540, VA=0.5408, TeA=0.5171 \n",
      "  TeA at max VA = 0.5413 at epoch 18\n"
     ]
    },
    {
     "name": "stderr",
     "output_type": "stream",
     "text": [
      "100%|█████████████████████████████████████████| 497/497 [05:05<00:00,  1.63it/s]\n",
      "100%|█████████████████████████████████████████| 124/124 [00:54<00:00,  2.27it/s]\n",
      "100%|█████████████████████████████████████████| 124/124 [00:56<00:00,  2.21it/s]\n"
     ]
    },
    {
     "name": "stdout",
     "output_type": "stream",
     "text": [
      "Time for Epoch 20: 415.97\n",
      "Epoch 20:\n",
      " TOTAL: TrL(CLIP)=1.3868, VL(CLIP)=1.6740, TeL(CLIP)=1.7125 \n",
      " EEG: TrA=0.6558, VA=0.5373, TeA=0.5161 \n",
      "  TeA at max VA = 0.5413 at epoch 18\n"
     ]
    },
    {
     "name": "stderr",
     "output_type": "stream",
     "text": [
      "  2%|▉                                         | 11/497 [00:08<06:18,  1.28it/s]\n"
     ]
    },
    {
     "ename": "KeyboardInterrupt",
     "evalue": "",
     "output_type": "error",
     "traceback": [
      "\u001b[0;31m---------------------------------------------------------------------------\u001b[0m",
      "\u001b[0;31mKeyboardInterrupt\u001b[0m                         Traceback (most recent call last)",
      "Input \u001b[0;32mIn [8]\u001b[0m, in \u001b[0;36m<cell line: 22>\u001b[0;34m()\u001b[0m\n\u001b[1;32m     52\u001b[0m     _, EEG_output \u001b[38;5;241m=\u001b[39m EEG_Encoder(EEG)\n\u001b[1;32m     53\u001b[0m _,pred \u001b[38;5;241m=\u001b[39m EEG_output\u001b[38;5;241m.\u001b[39mdata\u001b[38;5;241m.\u001b[39mmax(\u001b[38;5;241m1\u001b[39m)\n\u001b[0;32m---> 54\u001b[0m correct \u001b[38;5;241m=\u001b[39m \u001b[43mpred\u001b[49m\u001b[38;5;241;43m.\u001b[39;49m\u001b[43meq\u001b[49m\u001b[43m(\u001b[49m\u001b[43mlabel\u001b[49m\u001b[38;5;241;43m.\u001b[39;49m\u001b[43mdata\u001b[49m\u001b[43m)\u001b[49m\u001b[38;5;241;43m.\u001b[39;49m\u001b[43msum\u001b[49m\u001b[43m(\u001b[49m\u001b[43m)\u001b[49m\u001b[38;5;241;43m.\u001b[39;49m\u001b[43mitem\u001b[49m\u001b[43m(\u001b[49m\u001b[43m)\u001b[49m\n\u001b[1;32m     55\u001b[0m accuracy \u001b[38;5;241m=\u001b[39m correct\u001b[38;5;241m/\u001b[39mEEG\u001b[38;5;241m.\u001b[39mdata\u001b[38;5;241m.\u001b[39msize(\u001b[38;5;241m0\u001b[39m)   \n\u001b[1;32m     56\u001b[0m eeg_accuracies[split] \u001b[38;5;241m+\u001b[39m\u001b[38;5;241m=\u001b[39m accuracy\n",
      "\u001b[0;31mKeyboardInterrupt\u001b[0m: "
     ]
    }
   ],
   "source": [
    "#initialize training,validation, test losses and accuracy list\n",
    "\n",
    "clip = CLIPModel()\n",
    "clip.cuda()\n",
    "\n",
    "losses_per_epoch={\"train\":[], \"val\":[],\"test\":[]}\n",
    "eeg_accuracies_per_epoch={\"train\":[],\"val\":[],\"test\":[]}\n",
    "image_accuracies_per_epoch={\"train\":[],\"val\":[],\"test\":[]}\n",
    "\n",
    "optimizer = torch.optim.Adam([\n",
    "                {'params': clip.image_projection.parameters()},\n",
    "                {'params': clip.EEG_projection.parameters()},\n",
    "                {'params': clip.EEG_encoder.parameters(), 'lr': 1e-5}], lr=0.001)\n",
    "best_accuracy = 0\n",
    "best_accuracy_val = 0\n",
    "best_epoch = 0\n",
    "# Start training\n",
    "\n",
    "predicted_labels = [] \n",
    "correct_labels = []\n",
    "\n",
    "for epoch in range(1, 50+1):\n",
    "    start = time.time()\n",
    "    losses = {\"train\": 0, \"val\": 0, \"test\": 0}\n",
    "    eeg_accuracies = {\"train\": 0, \"val\": 0, \"test\": 0}\n",
    "    image_accuracies = {\"train\": 0, \"val\": 0, \"test\": 0}\n",
    "    \n",
    "    counts = {\"train\": 0, \"val\": 0, \"test\": 0}\n",
    "\n",
    "    for split in (\"train\", \"val\", \"test\"):\n",
    "\n",
    "        if split == \"train\":\n",
    "            clip.train()\n",
    "            torch.set_grad_enabled(True)\n",
    "        else:\n",
    "            clip.eval()\n",
    "            torch.set_grad_enabled(False)\n",
    "        train_gen = tqdm.tqdm(loaders[split])\n",
    "        for i, (EEG, image, label, image_label) in enumerate(train_gen):\n",
    "        \n",
    "            EEG = EEG.cuda()\n",
    "            image = image.cuda()\n",
    "            label = label.cuda()\n",
    "            image_label = image_label.cuda()\n",
    "            \n",
    "            loss = clip(EEG, image, label, image_label)\n",
    "            \n",
    "            # Compute loss\n",
    "            losses[split] += loss.item()\n",
    "            # Compute accuracy\n",
    "            with torch.no_grad():\n",
    "                _, EEG_output = EEG_Encoder(EEG)\n",
    "            _,pred = EEG_output.data.max(1)\n",
    "            correct = pred.eq(label.data).sum().item()\n",
    "            accuracy = correct/EEG.data.size(0)   \n",
    "            eeg_accuracies[split] += accuracy\n",
    "            counts[split] += 1\n",
    "            \n",
    "            # Backward and optimize\n",
    "            if split == \"train\":\n",
    "                optimizer.zero_grad()\n",
    "                loss.backward()\n",
    "                optimizer.step()\n",
    "\n",
    "    if eeg_accuracies[\"val\"]/counts[\"val\"] >= best_accuracy_val:\n",
    "        best_accuracy_val = eeg_accuracies[\"val\"]/counts[\"val\"]\n",
    "        best_accuracy = eeg_accuracies[\"test\"]/counts[\"test\"] \n",
    "        best_epoch = epoch\n",
    "    \n",
    "    print('Time for Epoch {0}: {1:.2f}'.format(epoch, time.time() - start))\n",
    "    print(\"Epoch {0}:\\n TOTAL: TrL(CLIP)={1:.4f}, VL(CLIP)={3:.4f}, TeL(CLIP)={5:.4f} \\n EEG: TrA={2:.4f}, VA={4:.4f}, TeA={6:.4f} \\n  TeA at max VA = {7:.4f} at epoch {8:d}\".format(epoch,\n",
    "                                                                                                         losses[\"train\"]/counts[\"train\"],\n",
    "                                                                                                         eeg_accuracies[\"train\"]/counts[\"train\"],\n",
    "                                                                                                         losses[\"val\"]/counts[\"val\"],\n",
    "                                                                                                         eeg_accuracies[\"val\"]/counts[\"val\"],\n",
    "                                                                                                         losses[\"test\"]/counts[\"test\"],\n",
    "                                                                                                         eeg_accuracies[\"test\"]/counts[\"test\"],\n",
    "                                                                                                         best_accuracy, \n",
    "                                                                                                         best_epoch))\n",
    "    \n",
    "    losses_per_epoch['train'].append(losses[\"train\"]/counts[\"train\"])\n",
    "    losses_per_epoch['val'].append(losses[\"val\"]/counts[\"val\"])\n",
    "    losses_per_epoch['test'].append(losses[\"test\"]/counts[\"test\"])\n",
    "    eeg_accuracies_per_epoch['train'].append(eeg_accuracies[\"train\"]/counts[\"train\"])\n",
    "    eeg_accuracies_per_epoch['val'].append(eeg_accuracies[\"val\"]/counts[\"val\"])\n",
    "    eeg_accuracies_per_epoch['test'].append(eeg_accuracies[\"test\"]/counts[\"test\"])\n",
    "\n",
    "    if epoch%5 == 0:\n",
    "        torch.save(clip, '%s_epoch_%d.pth' % ('CLIP', epoch))"
   ]
  },
  {
   "cell_type": "code",
   "execution_count": 11,
   "id": "ae4fa4e0",
   "metadata": {
    "collapsed": true
   },
   "outputs": [
    {
     "data": {
      "image/png": "[encoded data removed]",
      "text/plain": [
       "<Figure size 640x480 with 1 Axes>"
      ]
     },
     "metadata": {},
     "output_type": "display_data"
    }
   ],
   "source": [
    "plt.figure()\n",
    "plt.plot(losses_per_epoch['train'])\n",
    "plt.plot(losses_per_epoch['val'])\n",
    "plt.xlabel('Epochs')\n",
    "plt.ylabel('Loss')\n",
    "\n",
    "plt.legend(['Train Loss', 'Val Loss'])\n",
    "plt.savefig('CLIP_EEG_Encoding_loss.png')\n",
    "plt.show()"
   ]
  },
  {
   "cell_type": "code",
   "execution_count": 13,
   "id": "318751c3",
   "metadata": {},
   "outputs": [
    {
     "data": {
      "image/png": "[encoded data removed]",
      "text/plain": [
       "<Figure size 640x480 with 1 Axes>"
      ]
     },
     "metadata": {},
     "output_type": "display_data"
    }
   ],
   "source": [
    "plt.figure()\n",
    "plt.plot(eeg_accuracies_per_epoch['train'])\n",
    "plt.plot(eeg_accuracies_per_epoch['val'])\n",
    "plt.xlabel('Epochs')\n",
    "plt.ylabel('Accuracy')\n",
    "\n",
    "plt.legend(['Train Accuracy', 'Val Accuracy'])\n",
    "plt.savefig('CLIP_EEG_Encoding_Accuracy.png')\n",
    "plt.show()"
   ]
  },
  {
   "cell_type": "code",
   "execution_count": null,
   "id": "9d257944",
   "metadata": {
    "collapsed": true
   },
   "outputs": [],
   "source": []
  },
  {
   "cell_type": "code",
   "execution_count": null,
   "id": "73478a88",
   "metadata": {
    "collapsed": true
   },
   "outputs": [],
   "source": []
  },
  {
   "cell_type": "code",
   "execution_count": null,
   "id": "c8be2189",
   "metadata": {
    "collapsed": true
   },
   "outputs": [],
   "source": []
  }
 ],
 "metadata": {
  "kernelspec": {
   "display_name": "Python 3 (ipykernel)",
   "language": "python",
   "name": "python3"
  },
  "language_info": {
   "codemirror_mode": {
    "name": "ipython",
    "version": 3
   },
   "file_extension": ".py",
   "mimetype": "text/x-python",
   "name": "python",
   "nbconvert_exporter": "python",
   "pygments_lexer": "ipython3",
   "version": "3.8.13"
  }
 },
 "nbformat": 4,
 "nbformat_minor": 5
}
